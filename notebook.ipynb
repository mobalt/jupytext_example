{
 "cells": [
  {
   "cell_type": "code",
   "execution_count": 1,
   "metadata": {},
   "outputs": [],
   "source": [
    "import pandas as pd"
   ]
  },
  {
   "cell_type": "code",
   "execution_count": 2,
   "metadata": {},
   "outputs": [
    {
     "data": {
      "text/html": [
       "<div>\n",
       "<style scoped>\n",
       "    .dataframe tbody tr th:only-of-type {\n",
       "        vertical-align: middle;\n",
       "    }\n",
       "\n",
       "    .dataframe tbody tr th {\n",
       "        vertical-align: top;\n",
       "    }\n",
       "\n",
       "    .dataframe thead th {\n",
       "        text-align: right;\n",
       "    }\n",
       "</style>\n",
       "<table border=\"1\" class=\"dataframe\">\n",
       "  <thead>\n",
       "    <tr style=\"text-align: right;\">\n",
       "      <th></th>\n",
       "      <th>name</th>\n",
       "      <th>surname</th>\n",
       "      <th>gender</th>\n",
       "      <th>region</th>\n",
       "      <th>age</th>\n",
       "      <th>title</th>\n",
       "      <th>phone</th>\n",
       "      <th>birthday</th>\n",
       "      <th>email</th>\n",
       "      <th>password</th>\n",
       "      <th>credit_card</th>\n",
       "      <th>photo</th>\n",
       "    </tr>\n",
       "  </thead>\n",
       "  <tbody>\n",
       "    <tr>\n",
       "      <th>0</th>\n",
       "      <td>Călin</td>\n",
       "      <td>Esinencu</td>\n",
       "      <td>male</td>\n",
       "      <td>Romania</td>\n",
       "      <td>32</td>\n",
       "      <td>mr</td>\n",
       "      <td>(720) 414 9815</td>\n",
       "      <td>06/09/1988</td>\n",
       "      <td>călin-88@example.com</td>\n",
       "      <td>Esinencu88!</td>\n",
       "      <td>7442-7362-1251-9709</td>\n",
       "      <td>https://uinames.com/api/photos/male/8.jpg</td>\n",
       "    </tr>\n",
       "    <tr>\n",
       "      <th>1</th>\n",
       "      <td>Anișoara</td>\n",
       "      <td>Niculescu</td>\n",
       "      <td>female</td>\n",
       "      <td>Romania</td>\n",
       "      <td>26</td>\n",
       "      <td>ms</td>\n",
       "      <td>(585) 935 5475</td>\n",
       "      <td>09/29/1994</td>\n",
       "      <td>anișoara_94@example.com</td>\n",
       "      <td>Niculescu94+@</td>\n",
       "      <td>5459-5988-5878-8731</td>\n",
       "      <td>https://uinames.com/api/photos/female/16.jpg</td>\n",
       "    </tr>\n",
       "    <tr>\n",
       "      <th>2</th>\n",
       "      <td>Regína</td>\n",
       "      <td>Riško</td>\n",
       "      <td>female</td>\n",
       "      <td>Slovakia</td>\n",
       "      <td>32</td>\n",
       "      <td>ms</td>\n",
       "      <td>(801) 380 5261</td>\n",
       "      <td>05/20/1988</td>\n",
       "      <td>regína_88@example.com</td>\n",
       "      <td>Riško88!{</td>\n",
       "      <td>9042-7564-6496-6063</td>\n",
       "      <td>https://uinames.com/api/photos/female/5.jpg</td>\n",
       "    </tr>\n",
       "    <tr>\n",
       "      <th>3</th>\n",
       "      <td>Simon</td>\n",
       "      <td>Bizjak</td>\n",
       "      <td>male</td>\n",
       "      <td>Slovenia</td>\n",
       "      <td>21</td>\n",
       "      <td>mr</td>\n",
       "      <td>(375) 658 8597</td>\n",
       "      <td>01/04/1999</td>\n",
       "      <td>simonbizjak@example.com</td>\n",
       "      <td>Bizjak99#=</td>\n",
       "      <td>6267-6742-7754-8042</td>\n",
       "      <td>https://uinames.com/api/photos/male/16.jpg</td>\n",
       "    </tr>\n",
       "    <tr>\n",
       "      <th>4</th>\n",
       "      <td>Rania De</td>\n",
       "      <td>Smet</td>\n",
       "      <td>female</td>\n",
       "      <td>Belgium</td>\n",
       "      <td>25</td>\n",
       "      <td>ms</td>\n",
       "      <td>(295) 695 8694</td>\n",
       "      <td>09/03/1995</td>\n",
       "      <td>rania de95@example.com</td>\n",
       "      <td>Smet95#=</td>\n",
       "      <td>7081-2164-3217-1713</td>\n",
       "      <td>https://uinames.com/api/photos/female/17.jpg</td>\n",
       "    </tr>\n",
       "  </tbody>\n",
       "</table>\n",
       "</div>"
      ],
      "text/plain": [
       "       name    surname  gender    region  age title           phone  \\\n",
       "0     Călin   Esinencu    male   Romania   32    mr  (720) 414 9815   \n",
       "1  Anișoara  Niculescu  female   Romania   26    ms  (585) 935 5475   \n",
       "2    Regína      Riško  female  Slovakia   32    ms  (801) 380 5261   \n",
       "3     Simon     Bizjak    male  Slovenia   21    mr  (375) 658 8597   \n",
       "4  Rania De       Smet  female   Belgium   25    ms  (295) 695 8694   \n",
       "\n",
       "     birthday                    email       password          credit_card  \\\n",
       "0  06/09/1988     călin-88@example.com    Esinencu88!  7442-7362-1251-9709   \n",
       "1  09/29/1994  anișoara_94@example.com  Niculescu94+@  5459-5988-5878-8731   \n",
       "2  05/20/1988    regína_88@example.com      Riško88!{  9042-7564-6496-6063   \n",
       "3  01/04/1999  simonbizjak@example.com     Bizjak99#=  6267-6742-7754-8042   \n",
       "4  09/03/1995   rania de95@example.com       Smet95#=  7081-2164-3217-1713   \n",
       "\n",
       "                                          photo  \n",
       "0     https://uinames.com/api/photos/male/8.jpg  \n",
       "1  https://uinames.com/api/photos/female/16.jpg  \n",
       "2   https://uinames.com/api/photos/female/5.jpg  \n",
       "3    https://uinames.com/api/photos/male/16.jpg  \n",
       "4  https://uinames.com/api/photos/female/17.jpg  "
      ]
     },
     "execution_count": 2,
     "metadata": {},
     "output_type": "execute_result"
    }
   ],
   "source": [
    "patients = pd.read_csv('patient-accounts.csv')\n",
    "patients.head()"
   ]
  },
  {
   "cell_type": "code",
   "execution_count": 3,
   "metadata": {},
   "outputs": [
    {
     "data": {
      "text/plain": [
       "<matplotlib.axes._subplots.AxesSubplot at 0x7fcdeaddf9d0>"
      ]
     },
     "execution_count": 3,
     "metadata": {},
     "output_type": "execute_result"
    },
    {
     "data": {
      "image/png": "[encoded data removed]",
      "text/plain": [
       "<Figure size 432x288 with 1 Axes>"
      ]
     },
     "metadata": {
      "needs_background": "light"
     },
     "output_type": "display_data"
    }
   ],
   "source": [
    "patients['paranoia'] = patients.password.str.len()\n",
    "patients.paranoia.hist()"
   ]
  },
  {
   "cell_type": "code",
   "execution_count": 4,
   "metadata": {},
   "outputs": [
    {
     "data": {
      "text/plain": [
       "<matplotlib.axes._subplots.AxesSubplot at 0x7fcde869a090>"
      ]
     },
     "execution_count": 4,
     "metadata": {},
     "output_type": "execute_result"
    },
    {
     "data": {
      "image/png": "[encoded data removed]",
      "text/plain": [
       "<Figure size 432x288 with 1 Axes>"
      ]
     },
     "metadata": {
      "needs_background": "light"
     },
     "output_type": "display_data"
    }
   ],
   "source": [
    "patients.age.hist()"
   ]
  },
  {
   "cell_type": "code",
   "execution_count": 5,
   "metadata": {},
   "outputs": [
    {
     "data": {
      "text/plain": [
       "<matplotlib.axes._subplots.AxesSubplot at 0x7fcde7f16950>"
      ]
     },
     "execution_count": 5,
     "metadata": {},
     "output_type": "execute_result"
    },
    {
     "data": {
      "image/png": "[encoded data removed]",
      "text/plain": [
       "<Figure size 432x288 with 1 Axes>"
      ]
     },
     "metadata": {
      "needs_background": "light"
     },
     "output_type": "display_data"
    }
   ],
   "source": [
    "patients.plot.scatter('age','paranoia')"
   ]
  },
  {
   "cell_type": "code",
   "execution_count": 6,
   "metadata": {},
   "outputs": [
    {
     "data": {
      "text/html": [
       "<div>\n",
       "<style scoped>\n",
       "    .dataframe tbody tr th:only-of-type {\n",
       "        vertical-align: middle;\n",
       "    }\n",
       "\n",
       "    .dataframe tbody tr th {\n",
       "        vertical-align: top;\n",
       "    }\n",
       "\n",
       "    .dataframe thead th {\n",
       "        text-align: right;\n",
       "    }\n",
       "</style>\n",
       "<table border=\"1\" class=\"dataframe\">\n",
       "  <thead>\n",
       "    <tr style=\"text-align: right;\">\n",
       "      <th></th>\n",
       "      <th>age</th>\n",
       "      <th>paranoia</th>\n",
       "    </tr>\n",
       "  </thead>\n",
       "  <tbody>\n",
       "    <tr>\n",
       "      <th>age</th>\n",
       "      <td>1.000000</td>\n",
       "      <td>0.051906</td>\n",
       "    </tr>\n",
       "    <tr>\n",
       "      <th>paranoia</th>\n",
       "      <td>0.051906</td>\n",
       "      <td>1.000000</td>\n",
       "    </tr>\n",
       "  </tbody>\n",
       "</table>\n",
       "</div>"
      ],
      "text/plain": [
       "               age  paranoia\n",
       "age       1.000000  0.051906\n",
       "paranoia  0.051906  1.000000"
      ]
     },
     "execution_count": 6,
     "metadata": {},
     "output_type": "execute_result"
    }
   ],
   "source": [
    "patients.corr()"
   ]
  },
  {
   "cell_type": "code",
   "execution_count": null,
   "metadata": {},
   "outputs": [],
   "source": []
  }
 ],
 "metadata": {
  "jupytext": {
   "formats": "ipynb,py:percent"
  },
  "kernelspec": {
   "display_name": "Python 3",
   "language": "python",
   "name": "python3"
  },
  "language_info": {
   "codemirror_mode": {
    "name": "ipython",
    "version": 3
   },
   "file_extension": ".py",
   "mimetype": "text/x-python",
   "name": "python",
   "nbconvert_exporter": "python",
   "pygments_lexer": "ipython3",
   "version": "3.7.5"
  }
 },
 "nbformat": 4,
 "nbformat_minor": 2
}
